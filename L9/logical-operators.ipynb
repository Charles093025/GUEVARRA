{
 "cells": [
  {
   "cell_type": "markdown",
   "id": "03323290",
   "metadata": {},
   "source": [
    "# Logical Operators <hr style=\"border:2.px solid #Ff0cb\"></hr>\n"
   ]
  },
  {
   "cell_type": "markdown",
   "id": "8782eb93",
   "metadata": {},
   "source": [
    "Data Analyst: Charles Ian Gabriel M. Guevarra <br>\n",
    "Department: Electrical Engineering"
   ]
  },
  {
   "cell_type": "markdown",
   "id": "6ba32d35",
   "metadata": {},
   "source": [
    "# Logical AND\n"
   ]
  },
  {
   "cell_type": "code",
   "execution_count": 11,
   "id": "0e3dacf8",
   "metadata": {},
   "outputs": [
    {
     "name": "stdout",
     "output_type": "stream",
     "text": [
      "both are true\n"
     ]
    }
   ],
   "source": [
    "# a AND b must be true\n",
    "a = True\n",
    "b = True\n",
    "\n",
    "if a and b:\n",
    "    print(\"both are true\")\n",
    "elif not(a) and not(b):\n",
    "    print(\"both are flase\")\n",
    "else:\n",
    "    print(\"at least one is flase\")\n"
   ]
  },
  {
   "cell_type": "code",
   "execution_count": 34,
   "id": "1d781333",
   "metadata": {},
   "outputs": [
    {
     "name": "stdout",
     "output_type": "stream",
     "text": [
      "221 is out of range\n"
     ]
    }
   ],
   "source": [
    "# check if a is within sange of 1 to 10\n",
    "a = 221\n",
    "if (a > 0) and (a <= 10):\n",
    "    print(str(a) + \" is within the range of 1 to 10 \")\n",
    "elif (a > 0) and (a <= 20):\n",
    "    print(str(a) + \" is within the range of 11 to 20 \")\n",
    "elif (a > 0) and (a <= 30):\n",
    "    print(str(a) + \" is within the range of 1 to 30 \")\n",
    "else:\n",
    "    print(str(a) + \" is out of range\")"
   ]
  },
  {
   "cell_type": "markdown",
   "id": "3a99f20f",
   "metadata": {},
   "source": [
    "# Logical OR"
   ]
  },
  {
   "cell_type": "code",
   "execution_count": null,
   "id": "437794b8",
   "metadata": {},
   "outputs": [
    {
     "name": "stdout",
     "output_type": "stream",
     "text": [
      "both are false\n"
     ]
    }
   ],
   "source": [
    "# is a and b is true\n",
    "a = False\n",
    "b = False \n",
    "if a or b:\n",
    "    print(\"at least one is true\")\n",
    "else:\n",
    "    print(\"both are false\") "
   ]
  },
  {
   "cell_type": "code",
   "execution_count": 43,
   "id": "c90822a9",
   "metadata": {},
   "outputs": [
    {
     "name": "stdout",
     "output_type": "stream",
     "text": [
      "The weather is unpredictable today\n"
     ]
    }
   ],
   "source": [
    "# Go outside or stay indoors\n",
    "weather = \"cloudy\"\n",
    "\n",
    "if(weather == 'rainy') or (weather == \"stormy\"):\n",
    "    print(\"Bring an umbrella or stay indoors!\")\n",
    "elif(weather == 'sunny') or (weather == \"clear\"):\n",
    "    print(\"It's a great day to go outside!\")\n",
    "else:\n",
    "    print(\"The weather is unpredictable today\")"
   ]
  },
  {
   "cell_type": "markdown",
   "id": "478b3795",
   "metadata": {},
   "source": [
    "# Logical NOT"
   ]
  },
  {
   "cell_type": "code",
   "execution_count": 44,
   "id": "241a2634",
   "metadata": {},
   "outputs": [
    {
     "data": {
      "text/plain": [
       "False"
      ]
     },
     "execution_count": 44,
     "metadata": {},
     "output_type": "execute_result"
    }
   ],
   "source": [
    "# negates the logical state\n",
    "a = True\n",
    "not a "
   ]
  },
  {
   "cell_type": "code",
   "execution_count": 47,
   "id": "cf8031ac",
   "metadata": {},
   "outputs": [
    {
     "name": "stdout",
     "output_type": "stream",
     "text": [
      "8 is even \n"
     ]
    }
   ],
   "source": [
    "# odd or even number \n",
    "a = 8\n",
    "if a%2 == 0:\n",
    "    print(str(a) + \" is even \")\n",
    "else: \n",
    "    print(str(a) + \" is odd \")"
   ]
  }
 ],
 "metadata": {
  "kernelspec": {
   "display_name": "Python 3",
   "language": "python",
   "name": "python3"
  },
  "language_info": {
   "codemirror_mode": {
    "name": "ipython",
    "version": 3
   },
   "file_extension": ".py",
   "mimetype": "text/x-python",
   "name": "python",
   "nbconvert_exporter": "python",
   "pygments_lexer": "ipython3",
   "version": "3.13.2"
  }
 },
 "nbformat": 4,
 "nbformat_minor": 5
}
