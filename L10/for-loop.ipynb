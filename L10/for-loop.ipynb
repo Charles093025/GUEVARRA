{
 "cells": [
  {
   "cell_type": "markdown",
   "id": "f5d865cd",
   "metadata": {},
   "source": [
    "# for-loop <hr style=\"border:2.px solid #Ff0cb\"></hr>"
   ]
  },
  {
   "cell_type": "markdown",
   "id": "eaafb2f1",
   "metadata": {},
   "source": [
    "Data Analyst: Charles Ian Gabriel M. Guevarra <br>\n",
    "Department: Electrical Engineering\n",
    "\n"
   ]
  },
  {
   "cell_type": "code",
   "execution_count": 46,
   "id": "c4c67b80",
   "metadata": {},
   "outputs": [],
   "source": [
    "#pip install numpy - -upgrade"
   ]
  },
  {
   "cell_type": "code",
   "execution_count": 45,
   "id": "0a6dfe88",
   "metadata": {},
   "outputs": [],
   "source": [
    "import numpy as np"
   ]
  },
  {
   "cell_type": "markdown",
   "id": "44cdee1e",
   "metadata": {},
   "source": [
    "# Iterating Over a list"
   ]
  },
  {
   "cell_type": "code",
   "execution_count": 13,
   "id": "6f714434",
   "metadata": {},
   "outputs": [
    {
     "name": "stdout",
     "output_type": "stream",
     "text": [
      "apple\n",
      "pinapple\n",
      "watermelone\n",
      "8\n"
     ]
    }
   ],
   "source": [
    "# at index 0, i = 'apple'\n",
    "fruits = ['apple','pinapple','watermelone',8]\n",
    "for i in fruits:\n",
    "    print(i)"
   ]
  },
  {
   "cell_type": "code",
   "execution_count": 14,
   "id": "d8bd2b29",
   "metadata": {},
   "outputs": [
    {
     "name": "stdout",
     "output_type": "stream",
     "text": [
      "1\n",
      "2\n",
      "3\n",
      "4\n",
      "5\n",
      "6\n",
      "7\n",
      "8\n",
      "9\n",
      "10\n"
     ]
    }
   ],
   "source": [
    "numbers = [1,2,3,4,5,6,7,8,9,10]\n",
    "for n in numbers:\n",
    "    print(n)"
   ]
  },
  {
   "cell_type": "code",
   "execution_count": 47,
   "id": "9353100a",
   "metadata": {},
   "outputs": [
    {
     "data": {
      "text/plain": [
       "np.float64(5.5)"
      ]
     },
     "execution_count": 47,
     "metadata": {},
     "output_type": "execute_result"
    }
   ],
   "source": [
    "np .mean(numbers)"
   ]
  },
  {
   "cell_type": "code",
   "execution_count": 49,
   "id": "5005752c",
   "metadata": {},
   "outputs": [
    {
     "data": {
      "text/plain": [
       "np.float64(2.8722813232690143)"
      ]
     },
     "execution_count": 49,
     "metadata": {},
     "output_type": "execute_result"
    }
   ],
   "source": [
    "# population standard deviation\n",
    "np.std(numbers)"
   ]
  },
  {
   "cell_type": "markdown",
   "id": "b37d1911",
   "metadata": {},
   "source": []
  },
  {
   "cell_type": "code",
   "execution_count": null,
   "id": "a723e9fb",
   "metadata": {},
   "outputs": [],
   "source": []
  },
  {
   "cell_type": "code",
   "execution_count": 26,
   "id": "3af5ef92",
   "metadata": {},
   "outputs": [
    {
     "name": "stdout",
     "output_type": "stream",
     "text": [
      "0\n",
      "15\n",
      "30\n",
      "45\n",
      "60\n",
      "75\n",
      "90\n",
      "105\n"
     ]
    }
   ],
   "source": [
    "# for range(a,b,c), a is start, b is limit, c is interval\n",
    "for j in range (0,110,15):\n",
    "    print(j)"
   ]
  },
  {
   "cell_type": "markdown",
   "id": "62d226bf",
   "metadata": {},
   "source": [
    "# Iterating Over a Dictionary"
   ]
  },
  {
   "cell_type": "code",
   "execution_count": 39,
   "id": "754f1f38",
   "metadata": {},
   "outputs": [
    {
     "name": "stdout",
     "output_type": "stream",
     "text": [
      "M\n",
      "i\n",
      "s\n",
      "s\n",
      "i\n",
      "s\n",
      "s\n",
      "i\n",
      "p\n",
      "p\n",
      "i\n"
     ]
    }
   ],
   "source": [
    "for char in \"Mississippi\":\n",
    "    print(char)"
   ]
  },
  {
   "cell_type": "code",
   "execution_count": 40,
   "id": "23d28f6d",
   "metadata": {},
   "outputs": [
    {
     "name": "stdout",
     "output_type": "stream",
     "text": [
      "name\n",
      "position\n",
      "salary\n",
      "Greg\n",
      "supervisor\n",
      "12000\n"
     ]
    }
   ],
   "source": [
    "employee = {\n",
    "    'name':'Greg',\n",
    "    \"position\" :'supervisor',\n",
    "    'salary' : 12000\n",
    "}\n",
    "for key in employee:\n",
    "    print(key)\n",
    "\n",
    "for value in employee.values():\n",
    "    print(value)"
   ]
  }
 ],
 "metadata": {
  "kernelspec": {
   "display_name": "Python 3",
   "language": "python",
   "name": "python3"
  },
  "language_info": {
   "codemirror_mode": {
    "name": "ipython",
    "version": 3
   },
   "file_extension": ".py",
   "mimetype": "text/x-python",
   "name": "python",
   "nbconvert_exporter": "python",
   "pygments_lexer": "ipython3",
   "version": "3.13.2"
  }
 },
 "nbformat": 4,
 "nbformat_minor": 5
}
